{
  "cells": [
    {
      "cell_type": "markdown",
      "metadata": {
        "id": "mRs770o5H1tN"
      },
      "source": [
        "# 1 - Simple Sentiment Analysis\n",
        "\n",
        "In this series we'll be building a machine learning model to detect sentiment (i.e. detect if a sentence is positive or negative) using PyTorch and TorchText. This will be done on movie reviews, using the [IMDb dataset](http://ai.stanford.edu/~amaas/data/sentiment/).\n",
        "\n",
        "In this first notebook, we'll start very simple to understand the general concepts whilst not really caring about good results. Further notebooks will build on this knowledge and we'll actually get good results.\n",
        "\n",
        "### Introduction\n",
        "\n",
        "We'll be using a **recurrent neural network** (RNN) as they are commonly used in analysing sequences. An RNN takes in sequence of words, $X=\\{x_1, ..., x_T\\}$, one at a time, and produces a _hidden state_, $h$, for each word. We use the RNN _recurrently_ by feeding in the current word $x_t$ as well as the hidden state from the previous word, $h_{t-1}$, to produce the next hidden state, $h_t$.\n",
        "\n",
        "$$h_t = \\text{RNN}(x_t, h_{t-1})$$\n",
        "\n",
        "Once we have our final hidden state, $h_T$, (from feeding in the last word in the sequence, $x_T$) we feed it through a linear layer, $f$, (also known as a fully connected layer), to receive our predicted sentiment, $\\hat{y} = f(h_T)$.\n",
        "\n",
        "Below shows an example sentence, with the RNN predicting zero, which indicates a negative sentiment. The RNN is shown in orange and the linear layer shown in silver. Note that we use the same RNN for every word, i.e. it has the same parameters. The initial hidden state, $h_0$, is a tensor initialized to all zeros.\n",
        "\n",
        "![](https://github.com/bentrevett/pytorch-sentiment-analysis/blob/master/assets/sentiment1.png?raw=1)\n",
        "\n",
        "**Note:** some layers and steps have been omitted from the diagram, but these will be explained later."
      ]
    },
    {
      "cell_type": "markdown",
      "metadata": {
        "id": "q7PlOzNmH1tP"
      },
      "source": [
        "## Preparing Data\n",
        "\n",
        "One of the main concepts of TorchText is the `Field`. These define how your data should be processed. In our sentiment classification task the data consists of both the raw string of the review and the sentiment, either \"pos\" or \"neg\".\n",
        "\n",
        "The parameters of a `Field` specify how the data should be processed.\n",
        "\n",
        "We use the `TEXT` field to define how the review should be processed, and the `LABEL` field to process the sentiment.\n",
        "\n",
        "Our `TEXT` field has `tokenize='spacy'` as an argument. This defines that the \"tokenization\" (the act of splitting the string into discrete \"tokens\") should be done using the [spaCy](https://spacy.io) tokenizer. If no `tokenize` argument is passed, the default is simply splitting the string on spaces. We also need to specify a `tokenizer_language` which tells torchtext which spaCy model to use. We use the `en_core_web_sm` model which has to be downloaded with `python -m spacy download en_core_web_sm` before you run this notebook!\n",
        "\n",
        "`LABEL` is defined by a `LabelField`, a special subset of the `Field` class specifically used for handling labels. We will explain the `dtype` argument later.\n",
        "\n",
        "For more on `Fields`, go [here](https://github.com/pytorch/text/blob/master/torchtext/data/field.py).\n",
        "\n",
        "We also set the random seeds for reproducibility."
      ]
    },
    {
      "cell_type": "code",
      "source": [
        "!pip install torchtext==0.4.0\n",
        "!pip install --upgrade gensim"
      ],
      "metadata": {
        "id": "cD11k9FQIxzW",
        "outputId": "c4f12a73-4a7b-4834-ec01-4417a3c58898",
        "colab": {
          "base_uri": "https://localhost:8080/"
        }
      },
      "execution_count": 1,
      "outputs": [
        {
          "output_type": "stream",
          "name": "stdout",
          "text": [
            "Collecting torchtext==0.4.0\n",
            "  Downloading torchtext-0.4.0-py3-none-any.whl (53 kB)\n",
            "\u001b[?25l     \u001b[90m━━━━━━━━━━━━━━━━━━━━━━━━━━━━━━━━━━━━━━━━\u001b[0m \u001b[32m0.0/53.1 kB\u001b[0m \u001b[31m?\u001b[0m eta \u001b[36m-:--:--\u001b[0m\r\u001b[2K     \u001b[90m━━━━━━━━━━━━━━━━━━━━━━━━━━━━━━━━━━━━━━━━\u001b[0m \u001b[32m53.1/53.1 kB\u001b[0m \u001b[31m2.8 MB/s\u001b[0m eta \u001b[36m0:00:00\u001b[0m\n",
            "\u001b[?25hRequirement already satisfied: tqdm in /usr/local/lib/python3.10/dist-packages (from torchtext==0.4.0) (4.66.2)\n",
            "Requirement already satisfied: requests in /usr/local/lib/python3.10/dist-packages (from torchtext==0.4.0) (2.31.0)\n",
            "Requirement already satisfied: torch in /usr/local/lib/python3.10/dist-packages (from torchtext==0.4.0) (2.1.0+cu121)\n",
            "Requirement already satisfied: numpy in /usr/local/lib/python3.10/dist-packages (from torchtext==0.4.0) (1.25.2)\n",
            "Requirement already satisfied: six in /usr/local/lib/python3.10/dist-packages (from torchtext==0.4.0) (1.16.0)\n",
            "Requirement already satisfied: charset-normalizer<4,>=2 in /usr/local/lib/python3.10/dist-packages (from requests->torchtext==0.4.0) (3.3.2)\n",
            "Requirement already satisfied: idna<4,>=2.5 in /usr/local/lib/python3.10/dist-packages (from requests->torchtext==0.4.0) (3.6)\n",
            "Requirement already satisfied: urllib3<3,>=1.21.1 in /usr/local/lib/python3.10/dist-packages (from requests->torchtext==0.4.0) (2.0.7)\n",
            "Requirement already satisfied: certifi>=2017.4.17 in /usr/local/lib/python3.10/dist-packages (from requests->torchtext==0.4.0) (2024.2.2)\n",
            "Requirement already satisfied: filelock in /usr/local/lib/python3.10/dist-packages (from torch->torchtext==0.4.0) (3.13.1)\n",
            "Requirement already satisfied: typing-extensions in /usr/local/lib/python3.10/dist-packages (from torch->torchtext==0.4.0) (4.10.0)\n",
            "Requirement already satisfied: sympy in /usr/local/lib/python3.10/dist-packages (from torch->torchtext==0.4.0) (1.12)\n",
            "Requirement already satisfied: networkx in /usr/local/lib/python3.10/dist-packages (from torch->torchtext==0.4.0) (3.2.1)\n",
            "Requirement already satisfied: jinja2 in /usr/local/lib/python3.10/dist-packages (from torch->torchtext==0.4.0) (3.1.3)\n",
            "Requirement already satisfied: fsspec in /usr/local/lib/python3.10/dist-packages (from torch->torchtext==0.4.0) (2023.6.0)\n",
            "Requirement already satisfied: triton==2.1.0 in /usr/local/lib/python3.10/dist-packages (from torch->torchtext==0.4.0) (2.1.0)\n",
            "Requirement already satisfied: MarkupSafe>=2.0 in /usr/local/lib/python3.10/dist-packages (from jinja2->torch->torchtext==0.4.0) (2.1.5)\n",
            "Requirement already satisfied: mpmath>=0.19 in /usr/local/lib/python3.10/dist-packages (from sympy->torch->torchtext==0.4.0) (1.3.0)\n",
            "Installing collected packages: torchtext\n",
            "  Attempting uninstall: torchtext\n",
            "    Found existing installation: torchtext 0.16.0\n",
            "    Uninstalling torchtext-0.16.0:\n",
            "      Successfully uninstalled torchtext-0.16.0\n",
            "Successfully installed torchtext-0.4.0\n",
            "Requirement already satisfied: gensim in /usr/local/lib/python3.10/dist-packages (4.3.2)\n",
            "Requirement already satisfied: numpy>=1.18.5 in /usr/local/lib/python3.10/dist-packages (from gensim) (1.25.2)\n",
            "Requirement already satisfied: scipy>=1.7.0 in /usr/local/lib/python3.10/dist-packages (from gensim) (1.11.4)\n",
            "Requirement already satisfied: smart-open>=1.8.1 in /usr/local/lib/python3.10/dist-packages (from gensim) (6.4.0)\n"
          ]
        }
      ]
    },
    {
      "cell_type": "code",
      "execution_count": 2,
      "metadata": {
        "id": "diXAJf2jH1tQ"
      },
      "outputs": [],
      "source": [
        "import torch\n",
        "from torchtext import data\n",
        "\n",
        "\n",
        "from gensim.test.utils import common_texts\n",
        "from gensim.models import Word2Vec\n",
        "# word2vec\n",
        "model = Word2Vec(sentences=common_texts, vector_size=100, window=5, min_count=1, workers=4)\n",
        "model.save(\"word2vec.model\")\n",
        "\n",
        "\n",
        "SEED = 1234\n",
        "\n",
        "torch.manual_seed(SEED)\n",
        "torch.backends.cudnn.deterministic = True\n",
        "\n",
        "TEXT = data.Field(tokenize = 'spacy',\n",
        "                  tokenizer_language = 'en_core_web_sm',\n",
        "                  include_lengths = True,\n",
        "                  pad_first=True)\n",
        "\n",
        "LABEL = data.LabelField(dtype = torch.float)"
      ]
    },
    {
      "cell_type": "markdown",
      "metadata": {
        "id": "nX88mkuKH1tQ"
      },
      "source": [
        "Another handy feature of TorchText is that it has support for common datasets used in natural language processing (NLP).\n",
        "\n",
        "The following code automatically downloads the IMDb dataset and splits it into the canonical train/test splits as `torchtext.datasets` objects. It process the data using the `Fields` we have previously defined. The IMDb dataset consists of 50,000 movie reviews, each marked as being a positive or negative review."
      ]
    },
    {
      "cell_type": "code",
      "execution_count": 3,
      "metadata": {
        "id": "nOTiebiKH1tR",
        "colab": {
          "base_uri": "https://localhost:8080/"
        },
        "outputId": "293a4e8a-2f7d-4a3e-a6c5-3d41b443868a"
      },
      "outputs": [
        {
          "output_type": "stream",
          "name": "stdout",
          "text": [
            "downloading aclImdb_v1.tar.gz\n"
          ]
        },
        {
          "output_type": "stream",
          "name": "stderr",
          "text": [
            "aclImdb_v1.tar.gz: 100%|██████████| 84.1M/84.1M [00:30<00:00, 2.71MB/s]\n"
          ]
        }
      ],
      "source": [
        "from torchtext import datasets\n",
        "\n",
        "train_data, test_data = datasets.IMDB.splits(TEXT, LABEL)"
      ]
    },
    {
      "cell_type": "markdown",
      "metadata": {
        "id": "afgL6u_GH1tR"
      },
      "source": [
        "We can see how many examples are in each split by checking their length."
      ]
    },
    {
      "cell_type": "code",
      "execution_count": 4,
      "metadata": {
        "id": "ZRJ49dUVH1tR",
        "outputId": "05ac834f-b65a-4e93-8574-a27e5d839e09",
        "colab": {
          "base_uri": "https://localhost:8080/"
        }
      },
      "outputs": [
        {
          "output_type": "stream",
          "name": "stdout",
          "text": [
            "Number of training examples: 25000\n",
            "Number of testing examples: 25000\n"
          ]
        }
      ],
      "source": [
        "print(f'Number of training examples: {len(train_data)}')\n",
        "print(f'Number of testing examples: {len(test_data)}')"
      ]
    },
    {
      "cell_type": "markdown",
      "metadata": {
        "id": "WOZlrCq0H1tR"
      },
      "source": [
        "We can also check an example."
      ]
    },
    {
      "cell_type": "code",
      "execution_count": 5,
      "metadata": {
        "id": "a_GxVB6iH1tR",
        "outputId": "ae7799ae-c758-4f10-f2b9-c97aa01f0d93",
        "colab": {
          "base_uri": "https://localhost:8080/"
        }
      },
      "outputs": [
        {
          "output_type": "stream",
          "name": "stdout",
          "text": [
            "{'text': ['Worry', 'not', ',', 'Disney', 'fans', '--', 'this', 'special', 'edition', 'DVD', 'of', 'the', 'beloved', 'Cinderella', 'wo', \"n't\", 'turn', 'into', 'a', 'pumpkin', 'at', 'the', 'strike', 'of', 'midnight', '.', 'One', 'of', 'the', 'most', 'enduring', 'animated', 'films', 'of', 'all', 'time', ',', 'the', 'Disney', '-', 'fide', 'adaptation', 'of', 'the', 'gory', 'Brothers', 'Grimm', 'fairy', 'tale', 'became', 'a', 'classic', 'in', 'its', 'own', 'right', ',', 'thanks', 'to', 'some', 'memorable', 'tunes', '(', 'including', '\"', 'A', 'Dream', 'Is', 'a', 'Wish', 'Your', 'Heart', 'Makes', ',', '\"', '\"', 'Bibbidi', '-', 'Bobbidi', '-', 'Boo', ',', '\"', 'and', 'the', 'title', 'song', ')', 'and', 'some', 'endearingly', 'cute', 'comic', 'relief', '.', 'The', 'famous', 'slipper', '(', 'click', 'for', 'larger', 'image', ')', 'We', 'all', 'know', 'the', 'story', '--', 'the', 'wicked', 'stepmother', 'and', 'stepsisters', 'simply', 'wo', \"n't\", 'have', 'it', ',', 'this', 'uppity', 'Cinderella', 'thinking', 'she', \"'s\", 'going', 'to', 'a', 'ball', 'designed', 'to', 'find', 'the', 'handsome', 'prince', 'an', 'appropriate', 'sweetheart', ',', 'but', 'perseverance', ',', 'animal', 'buddies', ',', 'and', 'a', 'well', '-', 'timed', 'entrance', 'by', 'a', 'fairy', 'godmother', 'make', 'sure', 'things', 'turn', 'out', 'all', 'right', '.', 'There', 'are', 'a', 'few', 'striking', 'sequences', 'of', 'pure', 'animation', '--', 'for', 'example', ',', 'Cinderella', 'is', 'reflected', 'in', 'bubbles', 'drifting', 'through', 'the', 'air', '--', 'and', 'the', 'design', 'is', 'rich', 'and', 'evocative', 'throughout', '.', 'It', \"'s\", 'a', 'simple', 'story', 'padded', 'here', 'agreeably', 'with', 'comic', 'business', ',', 'particularly', 'Cinderella', \"'s\", 'rodent', 'pals', '(', 'dressed', 'up', 'conspicuously', 'like', 'the', 'dwarf', 'sidekicks', 'of', 'another', 'famous', 'Disney', 'heroine', ')', 'and', 'their', 'misadventures', 'with', 'a', 'wretched', 'cat', 'named', 'Lucifer', '.', 'There', \"'s\", 'also', 'much', 'harrumphing', 'and', 'exposition', 'spouting', 'by', 'the', 'King', 'and', 'the', 'Grand', 'Duke', '.', 'It', \"'s\", 'a', 'much', 'simpler', 'and', 'more', 'graceful', 'work', 'than', 'the', 'more', 'frenetically', 'paced', 'animated', 'films', 'of', 'today', ',', 'which', 'makes', 'it', 'simultaneously', 'quaint', 'and', 'highly', 'gratifying', '.'], 'label': 'pos'}\n"
          ]
        }
      ],
      "source": [
        "print(vars(train_data.examples[0]))"
      ]
    },
    {
      "cell_type": "markdown",
      "metadata": {
        "id": "Cn0-tCRqH1tS"
      },
      "source": [
        "The IMDb dataset only has train/test splits, so we need to create a validation set. We can do this with the `.split()` method.\n",
        "\n",
        "By default this splits 70/30, however by passing a `split_ratio` argument, we can change the ratio of the split, i.e. a `split_ratio` of 0.8 would mean 80% of the examples make up the training set and 20% make up the validation set.\n",
        "\n",
        "We also pass our random seed to the `random_state` argument, ensuring that we get the same train/validation split each time."
      ]
    },
    {
      "cell_type": "code",
      "execution_count": 6,
      "metadata": {
        "id": "eCXoOIyVH1tS"
      },
      "outputs": [],
      "source": [
        "import random\n",
        "\n",
        "train_data, valid_data = train_data.split(split_ratio = 0.8, random_state = random.seed(SEED))"
      ]
    },
    {
      "cell_type": "markdown",
      "metadata": {
        "id": "l7GIAq-lH1tS"
      },
      "source": [
        "Again, we'll view how many examples are in each split."
      ]
    },
    {
      "cell_type": "code",
      "execution_count": 7,
      "metadata": {
        "id": "aO3xIgKBH1tS",
        "outputId": "03fa2bd3-6736-4fb1-c6e5-d8c08c587e82",
        "colab": {
          "base_uri": "https://localhost:8080/"
        }
      },
      "outputs": [
        {
          "output_type": "stream",
          "name": "stdout",
          "text": [
            "Number of training examples: 20000\n",
            "Number of validation examples: 5000\n",
            "Number of testing examples: 25000\n"
          ]
        }
      ],
      "source": [
        "print(f'Number of training examples: {len(train_data)}')\n",
        "print(f'Number of validation examples: {len(valid_data)}')\n",
        "print(f'Number of testing examples: {len(test_data)}')"
      ]
    },
    {
      "cell_type": "markdown",
      "metadata": {
        "id": "wjmk1g3YH1tS"
      },
      "source": [
        "Next, we have to build a _vocabulary_. This is a effectively a look up table where every unique word in your data set has a corresponding _index_ (an integer).\n",
        "\n",
        "We do this as our machine learning model cannot operate on strings, only numbers. Each _index_ is used to construct a _one-hot_ vector for each word. A one-hot vector is a vector where all of the elements are 0, except one, which is 1, and dimensionality is the total number of unique words in your vocabulary, commonly denoted by $V$.\n",
        "\n",
        "![](https://github.com/bentrevett/pytorch-sentiment-analysis/blob/master/assets/sentiment5.png?raw=1)\n",
        "\n",
        "The number of unique words in our training set is over 100,000, which means that our one-hot vectors will have over 100,000 dimensions! This will make training slow and possibly won't fit onto your GPU (if you're using one).\n",
        "\n",
        "There are two ways effectively cut down our vocabulary, we can either only take the top $n$ most common words or ignore words that appear less than $m$ times. We'll do the former, only keeping the top 25,000 words.\n",
        "\n",
        "What do we do with words that appear in examples but we have cut from the vocabulary? We replace them with a special _unknown_ or `<unk>` token. For example, if the sentence was \"This film is great and I love it\" but the word \"love\" was not in the vocabulary, it would become \"This film is great and I `<unk>` it\".\n",
        "\n",
        "The following builds the vocabulary, only keeping the most common `max_size` tokens."
      ]
    },
    {
      "cell_type": "code",
      "source": [
        "# print number of unique words\n",
        "\n",
        "TEXT.build_vocab(train_data)\n",
        "LABEL.build_vocab(train_data)\n",
        "print(len(TEXT.vocab))\n",
        "print(len(LABEL.vocab))\n",
        "\n",
        "print(LABEL.vocab.stoi)\n",
        "# here I see that hte length of the label vocabulary is only 2 long?\n",
        "# This is because we have postive and negative only\n",
        "print(LABEL.vocab.itos) # wtf is itos..,"
      ],
      "metadata": {
        "colab": {
          "base_uri": "https://localhost:8080/"
        },
        "id": "czIoNfpiOSqi",
        "outputId": "26e7e892-a301-47bf-d883-614ffb07ca76"
      },
      "execution_count": 8,
      "outputs": [
        {
          "output_type": "stream",
          "name": "stdout",
          "text": [
            "108128\n",
            "2\n",
            "defaultdict(None, {'neg': 0, 'pos': 1})\n",
            "['neg', 'pos']\n"
          ]
        }
      ]
    },
    {
      "cell_type": "code",
      "execution_count": 9,
      "metadata": {
        "id": "Kzq6r-FtH1tS",
        "colab": {
          "base_uri": "https://localhost:8080/"
        },
        "outputId": "80c70acd-e547-47cb-98ef-7ec90953c189"
      },
      "outputs": [
        {
          "output_type": "stream",
          "name": "stdout",
          "text": [
            "25002\n",
            "2\n"
          ]
        }
      ],
      "source": [
        "MAX_VOCAB_SIZE = 25_000\n",
        "\n",
        "# MAX_VOCAB_SIZE = 0\n",
        "\n",
        "TEXT.build_vocab(train_data, max_size = MAX_VOCAB_SIZE)\n",
        "LABEL.build_vocab(train_data)\n",
        "\n",
        "print(len(TEXT.vocab)) # why is this MAX_VOCAB_SIZE +2 ?  <unk> and <pad>\n",
        "print(len(LABEL.vocab))\n"
      ]
    },
    {
      "cell_type": "markdown",
      "metadata": {
        "id": "afFTzzi7H1tS"
      },
      "source": [
        "Why do we only build the vocabulary on the training set? When testing any machine learning system you do not want to look at the test set in any way. We do not include the validation set as we want it to reflect the test set as much as possible."
      ]
    },
    {
      "cell_type": "code",
      "execution_count": 10,
      "metadata": {
        "id": "j8GmgGjAH1tS",
        "outputId": "59b13db7-a37b-4b71-aa8d-616ffcc3fdfc",
        "colab": {
          "base_uri": "https://localhost:8080/"
        }
      },
      "outputs": [
        {
          "output_type": "stream",
          "name": "stdout",
          "text": [
            "Unique tokens in TEXT vocabulary: 25002\n",
            "Unique tokens in LABEL vocabulary: 2\n"
          ]
        }
      ],
      "source": [
        "print(f\"Unique tokens in TEXT vocabulary: {len(TEXT.vocab)}\")\n",
        "print(f\"Unique tokens in LABEL vocabulary: {len(LABEL.vocab)}\")"
      ]
    },
    {
      "cell_type": "markdown",
      "metadata": {
        "id": "B-8Giye0H1tS"
      },
      "source": [
        "Why is the vocab size 25002 and not 25000? One of the addition tokens is the `<unk>` token and the other is a `<pad>` token.\n",
        "\n",
        "When we feed sentences into our model, we feed a _batch_ of them at a time, i.e. more than one at a time, and all sentences in the batch need to be the same size. Thus, to ensure each sentence in the batch is the same size, any shorter than the longest within the batch are padded.\n",
        "\n",
        "![](https://github.com/bentrevett/pytorch-sentiment-analysis/blob/master/assets/sentiment6.png?raw=1)\n",
        "\n",
        "We can also view the most common words in the vocabulary and their frequencies."
      ]
    },
    {
      "cell_type": "code",
      "execution_count": 11,
      "metadata": {
        "id": "Cy0-pS3oH1tT",
        "outputId": "097a56a5-3a57-4eda-cfe5-9555f7a85a22",
        "colab": {
          "base_uri": "https://localhost:8080/"
        }
      },
      "outputs": [
        {
          "output_type": "stream",
          "name": "stdout",
          "text": [
            "[('the', 231121), (',', 219061), ('.', 189004), ('and', 124763), ('a', 124701), ('of', 114770), ('to', 106826), ('is', 86846), ('in', 69887), ('I', 62174), ('it', 60990), ('that', 56003), ('\"', 50388), (\"'s\", 49507), ('this', 48224), ('-', 43085), ('/><br', 40753), ('was', 40049), ('as', 34761), ('with', 33992)]\n"
          ]
        }
      ],
      "source": [
        "print(TEXT.vocab.freqs.most_common(20))"
      ]
    },
    {
      "cell_type": "markdown",
      "metadata": {
        "id": "MWfh7Dx0H1tT"
      },
      "source": [
        "We can also see the vocabulary directly using either the `stoi` (**s**tring **to** **i**nt) or `itos` (**i**nt **to**  **s**tring) method."
      ]
    },
    {
      "cell_type": "code",
      "execution_count": 12,
      "metadata": {
        "id": "dllNkd79H1tT",
        "outputId": "fc9adf34-2e21-47e2-e821-bcdc2e011fd1",
        "colab": {
          "base_uri": "https://localhost:8080/"
        }
      },
      "outputs": [
        {
          "output_type": "stream",
          "name": "stdout",
          "text": [
            "['<unk>', '<pad>', 'the', ',', '.', 'and', 'a', 'of', 'to', 'is']\n"
          ]
        }
      ],
      "source": [
        "print(TEXT.vocab.itos[:10])"
      ]
    },
    {
      "cell_type": "markdown",
      "metadata": {
        "id": "V3n_Iv61H1tT"
      },
      "source": [
        "We can also check the labels, ensuring 0 is for negative and 1 is for positive."
      ]
    },
    {
      "cell_type": "code",
      "execution_count": 13,
      "metadata": {
        "id": "JYFR21-NH1tT",
        "outputId": "fe99da86-1e63-4e40-c8ef-312943223778",
        "colab": {
          "base_uri": "https://localhost:8080/"
        }
      },
      "outputs": [
        {
          "output_type": "stream",
          "name": "stdout",
          "text": [
            "defaultdict(None, {'neg': 0, 'pos': 1})\n"
          ]
        }
      ],
      "source": [
        "print(LABEL.vocab.stoi)"
      ]
    },
    {
      "cell_type": "code",
      "source": [
        "TEXT.__dict__"
      ],
      "metadata": {
        "colab": {
          "base_uri": "https://localhost:8080/"
        },
        "id": "-AC55M4-TkT-",
        "outputId": "20e4cbd0-191d-4f5d-f724-b655aedb6004"
      },
      "execution_count": 14,
      "outputs": [
        {
          "output_type": "execute_result",
          "data": {
            "text/plain": [
              "{'sequential': True,\n",
              " 'use_vocab': True,\n",
              " 'init_token': None,\n",
              " 'eos_token': None,\n",
              " 'unk_token': '<unk>',\n",
              " 'fix_length': None,\n",
              " 'dtype': torch.int64,\n",
              " 'preprocessing': None,\n",
              " 'postprocessing': None,\n",
              " 'lower': False,\n",
              " 'tokenizer_args': ('spacy', 'en_core_web_sm'),\n",
              " 'tokenize': functools.partial(<function _spacy_tokenize at 0x7e21d38a4820>, spacy=<spacy.lang.en.English object at 0x7e21a1170dc0>),\n",
              " 'include_lengths': True,\n",
              " 'batch_first': False,\n",
              " 'pad_token': '<pad>',\n",
              " 'pad_first': True,\n",
              " 'truncate_first': False,\n",
              " 'stop_words': None,\n",
              " 'is_target': False,\n",
              " 'vocab': <torchtext.vocab.Vocab at 0x7e21b81e89a0>}"
            ]
          },
          "metadata": {},
          "execution_count": 14
        }
      ]
    },
    {
      "cell_type": "markdown",
      "metadata": {
        "id": "zG_SfWp3H1tT"
      },
      "source": [
        "The final step of preparing the data is creating the iterators. We iterate over these in the training/evaluation loop, and they return a batch of examples (indexed and converted into tensors) at each iteration.\n",
        "\n",
        "We'll use a `BucketIterator` which is a special type of iterator that will return a batch of examples where each example is of a similar length, minimizing the amount of padding per example.\n",
        "\n",
        "We also want to place the tensors returned by the iterator on the GPU (if you're using one). PyTorch handles this using `torch.device`, we then pass this device to the iterator."
      ]
    },
    {
      "cell_type": "code",
      "execution_count": 15,
      "metadata": {
        "id": "5QYGHCMfH1tT"
      },
      "outputs": [],
      "source": [
        "BATCH_SIZE = 64\n",
        "\n",
        "device = torch.device('cuda' if torch.cuda.is_available() else 'cpu')\n",
        "\n",
        "train_iterator, valid_iterator, test_iterator = data.BucketIterator.splits(\n",
        "    (train_data, valid_data, test_data),\n",
        "    batch_size = BATCH_SIZE,\n",
        "    sort_within_batch = True,\n",
        "    device = device)"
      ]
    },
    {
      "cell_type": "markdown",
      "metadata": {
        "id": "XqygCp2RH1tT"
      },
      "source": [
        "## Build the Model\n",
        "\n",
        "The next stage is building the model that we'll eventually train and evaluate.\n",
        "\n",
        "There is a small amount of boilerplate code when creating models in PyTorch, note how our `RNN` class is a sub-class of `nn.Module` and the use of `super`.\n",
        "\n",
        "Within the `__init__` we define the _layers_ of the module. Our three layers are an _embedding_ layer, our RNN, and a _linear_ layer. All layers have their parameters initialized to random values, unless explicitly specified.\n",
        "\n",
        "The embedding layer is used to transform our sparse one-hot vector (sparse as most of the elements are 0) into a dense embedding vector (dense as the dimensionality is a lot smaller and all the elements are real numbers). This embedding layer is simply a single fully connected layer. As well as reducing the dimensionality of the input to the RNN, there is the theory that words which have similar impact on the sentiment of the review are mapped close together in this dense vector space. For more information about word embeddings, see [here](https://monkeylearn.com/blog/word-embeddings-transform-text-numbers/).\n",
        "\n",
        "The RNN layer is our RNN which takes in our dense vector and the previous hidden state $h_{t-1}$, which it uses to calculate the next hidden state, $h_t$.\n",
        "\n",
        "![](https://github.com/bentrevett/pytorch-sentiment-analysis/blob/master/assets/sentiment7.png?raw=1)\n",
        "\n",
        "Finally, the linear layer takes the final hidden state and feeds it through a fully connected layer, $f(h_T)$, transforming it to the correct output dimension.\n",
        "\n",
        "The `forward` method is called when we feed examples into our model.\n",
        "\n",
        "Each batch, `text`, is a tensor of size _**[sentence length, batch size]**_. That is a batch of sentences, each having each word converted into a one-hot vector.\n",
        "\n",
        "You may notice that this tensor should have another dimension due to the one-hot vectors, however PyTorch conveniently stores a one-hot vector as it's index value, i.e. the tensor representing a sentence is just a tensor of the indexes for each token in that sentence. The act of converting a list of tokens into a list of indexes is commonly called *numericalizing*.\n",
        "\n",
        "The input batch is then passed through the embedding layer to get `embedded`, which gives us a dense vector representation of our sentences. `embedded` is a tensor of size _**[sentence length, batch size, embedding dim]**_.\n",
        "\n",
        "`embedded` is then fed into the RNN. In some frameworks you must feed the initial hidden state, $h_0$, into the RNN, however in PyTorch, if no initial hidden state is passed as an argument it defaults to a tensor of all zeros.\n",
        "\n",
        "The RNN returns 2 tensors, `output` of size _**[sentence length, batch size, hidden dim]**_ and `hidden` of size _**[1, batch size, hidden dim]**_. `output` is the concatenation of the hidden state from every time step, whereas `hidden` is simply the final hidden state. We verify this using the `assert` statement. Note the `squeeze` method, which is used to remove a dimension of size 1.\n",
        "\n",
        "Finally, we feed the last hidden state, `hidden`, through the linear layer, `fc`, to produce a prediction."
      ]
    },
    {
      "cell_type": "code",
      "execution_count": 16,
      "metadata": {
        "id": "Q5IWVRASH1tT"
      },
      "outputs": [],
      "source": [
        "import torch.nn as nn\n",
        "import torch.nn.functional as F\n",
        "\n",
        "\n",
        "class RNN(nn.Module):\n",
        "    def __init__(self, input_dim, embedding_dim, hidden_dim, output_dim):\n",
        "        super().__init__()\n",
        "\n",
        "\n",
        "        self.embedding = nn.Embedding(input_dim, embedding_dim)\n",
        "\n",
        "        # Set up the RNN layer\n",
        "        self.rnn = nn.RNN(embedding_dim, hidden_dim)\n",
        "\n",
        "        # Set up the fully connected layer that outputs the prediction\n",
        "        self.fc = nn.Linear(hidden_dim, output_dim)\n",
        "\n",
        "    def forward(self, text, text_lengths=None):\n",
        "\n",
        "        # Embedding layer\n",
        "        embedded = self.embedding(text)\n",
        "\n",
        "        # RNN layer\n",
        "        output, hidden = self.rnn(embedded)\n",
        "\n",
        "\n",
        "        # Fully connected layer\n",
        "        return self.fc(hidden.squeeze(0))\n",
        "\n",
        "\n",
        "# dynamic FFN\n",
        "class FFN(nn.Module):\n",
        "    def __init__(self, input_dim, embedding_dim, hidden_dims, output_dim):\n",
        "        super().__init__()\n",
        "\n",
        "        self.embedding = nn.Embedding(input_dim, embedding_dim)\n",
        "\n",
        "        # Dynamically create the fully connected layers based on hidden_dims\n",
        "        layers = []\n",
        "        in_features = embedding_dim\n",
        "        for hidden_dim in hidden_dims:\n",
        "            layers.append(nn.Linear(in_features, hidden_dim))\n",
        "            in_features = hidden_dim  # Update in_features for the next layer\n",
        "\n",
        "        self.fc_layers = nn.ModuleList(layers)\n",
        "        self.output_layer = nn.Linear(in_features, output_dim)\n",
        "\n",
        "    def forward(self, text, text_lengths=None):\n",
        "        # Embedding layer\n",
        "        embedded = self.embedding(text)\n",
        "\n",
        "        # Aggregate embeddings (mean over sequence dimension)\n",
        "        output = embedded.mean(dim=0)\n",
        "\n",
        "        # Dynamically apply each fully connected layer with ReLU activation\n",
        "        for layer in self.fc_layers:\n",
        "            output = F.relu(layer(output))\n",
        "\n",
        "        # Output layer\n",
        "        return self.output_layer(output)\n",
        "\n",
        "\n",
        "# CNN model (using three feature maps with the sizes are 1, 2, and 3)\n",
        "class CNN(nn.Module):\n",
        "    def __init__(self, input_dim, embedding_dim, hidden_dim_1, output_dim):\n",
        "        super().__init__()\n",
        "\n",
        "        self.embedding = nn.Embedding(input_dim, embedding_dim)\n",
        "\n",
        "        # Set up the CNN layers\n",
        "        self.cnn1 = nn.Conv1d(embedding_dim, hidden_dim_1, 1)\n",
        "        self.cnn2 = nn.Conv1d(embedding_dim, hidden_dim_1, 2)\n",
        "        self.cnn3 = nn.Conv1d(embedding_dim, hidden_dim_1, 3)\n",
        "\n",
        "        # Set up the fully connected layer that outputs the prediction\n",
        "        self.fc = nn.Linear(hidden_dim_1 * 3, output_dim)\n",
        "\n",
        "\n",
        "    def forward(self, text, text_lengths=None):\n",
        "        # text = [sent len, batch size]\n",
        "\n",
        "        # Embedding layer\n",
        "        embedded = self.embedding(text)\n",
        "\n",
        "        # why do I need to do this?\n",
        "        embedded = embedded.permute(1, 2, 0)\n",
        "        # embedded = [batch size, emb dim, sent len]\n",
        "\n",
        "        # CNN layer\n",
        "        output1 = F.relu(self.cnn1(embedded))\n",
        "        output2 = F.relu(self.cnn2(embedded))\n",
        "        output3 = F.relu(self.cnn3(embedded))\n",
        "\n",
        "        # Max pooling\n",
        "        output1 = F.max_pool1d(output1, output1.shape[2]).squeeze(2)\n",
        "        output2 = F.max_pool1d(output2, output2.shape[2]).squeeze(2)\n",
        "        output3 = F.max_pool1d(output3, output3.shape[2]).squeeze(2)\n",
        "\n",
        "        # Fully connected layer\n",
        "        return self.fc(torch.cat((output1, output2, output3), dim=1))\n",
        "\n",
        "\n",
        "class LSTM(nn.Module):\n",
        "    def __init__(self, input_dim, embedding_dim, hidden_dim, output_dim, device=device):\n",
        "        super().__init__()\n",
        "\n",
        "        # Store the device in the model\n",
        "        self.device = device\n",
        "\n",
        "        self.embedding = nn.Embedding(input_dim, embedding_dim)\n",
        "\n",
        "        self.lstm = nn.LSTM(embedding_dim, hidden_dim, bidirectional=False)\n",
        "\n",
        "        self.linear = nn.Linear(hidden_dim, output_dim)\n",
        "\n",
        "        # Move the model itself to the specified device (GPU or CPU) couldn't get it to work otherwise...\n",
        "        self.to(device)\n",
        "\n",
        "    def forward(self, text, text_lengths=None):\n",
        "        # Ensure inputs are on the correct device\n",
        "        text = text.to(self.device)\n",
        "        if text_lengths is not None:\n",
        "            text_lengths = text_lengths.to('cpu').long()  # text_lengths must be on CPU for pack_padded_sequence\n",
        "\n",
        "        embedded = self.embedding(text)\n",
        "\n",
        "        # When using pack_padded_sequence, make sure to sort or enforce_sorted=False\n",
        "        if text_lengths is not None:\n",
        "            packed_embedded = nn.utils.rnn.pack_padded_sequence(embedded, text_lengths, enforce_sorted=False)\n",
        "            packed_output, (hidden, cell) = self.lstm(packed_embedded)\n",
        "            output, output_lengths = nn.utils.rnn.pad_packed_sequence(packed_output)\n",
        "        else:\n",
        "            output, (hidden, cell) = self.lstm(embedded)\n",
        "\n",
        "        # If you want to use only the last hidden state:\n",
        "        out = self.linear(hidden[-1, :, :])\n",
        "\n",
        "        return out\n",
        "\n",
        "class BiLSTM(nn.Module):\n",
        "    def __init__(self, input_dim, embedding_dim, hidden_dim, output_dim, device=device):\n",
        "        super().__init__()\n",
        "\n",
        "        # Store the device in the model\n",
        "        self.device = device\n",
        "\n",
        "        self.embedding = nn.Embedding(input_dim, embedding_dim)\n",
        "\n",
        "        self.lstm = nn.LSTM(embedding_dim, hidden_dim, bidirectional=True)\n",
        "\n",
        "        self.linear = nn.Linear(hidden_dim, output_dim)\n",
        "\n",
        "        # Move the model itself to the specified device (GPU or CPU) couldn't get it to work otherwise...\n",
        "        self.to(device)\n",
        "\n",
        "    def forward(self, text, text_lengths=None):\n",
        "        # Ensure inputs are on the correct device\n",
        "        text = text.to(self.device)\n",
        "        if text_lengths is not None:\n",
        "            text_lengths = text_lengths.to('cpu').long()  # text_lengths must be on CPU for pack_padded_sequence\n",
        "\n",
        "        embedded = self.embedding(text)\n",
        "\n",
        "        # When using pack_padded_sequence, make sure to sort or enforce_sorted=False\n",
        "        if text_lengths is not None:\n",
        "            packed_embedded = nn.utils.rnn.pack_padded_sequence(embedded, text_lengths, enforce_sorted=False)\n",
        "            packed_output, (hidden, cell) = self.lstm(packed_embedded)\n",
        "            output, output_lengths = nn.utils.rnn.pad_packed_sequence(packed_output)\n",
        "        else:\n",
        "            output, (hidden, cell) = self.lstm(embedded)\n",
        "\n",
        "        # If you want to use only the last hidden state:\n",
        "        out = self.linear(hidden[-1, :, :])\n",
        "\n",
        "        return out\n",
        "\n"
      ]
    },
    {
      "cell_type": "markdown",
      "metadata": {
        "id": "Grztahq0H1tT"
      },
      "source": [
        "We now create an instance of our RNN class.\n",
        "\n",
        "The input dimension is the dimension of the one-hot vectors, which is equal to the vocabulary size.\n",
        "\n",
        "The embedding dimension is the size of the dense word vectors. This is usually around 50-250 dimensions, but depends on the size of the vocabulary.\n",
        "\n",
        "The hidden dimension is the size of the hidden states. This is usually around 100-500 dimensions, but also depends on factors such as on the vocabulary size, the size of the dense vectors and the complexity of the task.\n",
        "\n",
        "The output dimension is usually the number of classes, however in the case of only 2 classes the output value is between 0 and 1 and thus can be 1-dimensional, i.e. a single scalar real number."
      ]
    },
    {
      "cell_type": "code",
      "execution_count": 17,
      "metadata": {
        "id": "C-NMrSMCH1tT"
      },
      "outputs": [],
      "source": [
        "INPUT_DIM = len(TEXT.vocab)\n",
        "# EMBEDDING_DIM = 100\n",
        "HIDDEN_DIM = 256\n",
        "OUTPUT_DIM = 1\n",
        "\n",
        "# model = RNN(INPUT_DIM, EMBEDDING_DIM, HIDDEN_DIM, OUTPUT_DIM)"
      ]
    },
    {
      "cell_type": "markdown",
      "metadata": {
        "id": "epWFTT7gH1tU"
      },
      "source": [
        "Let's also create a function that will tell us how many trainable parameters our model has so we can compare the number of parameters across different models."
      ]
    },
    {
      "cell_type": "code",
      "execution_count": 18,
      "metadata": {
        "id": "wcSM1EMeH1tU"
      },
      "outputs": [],
      "source": [
        "def count_parameters(model):\n",
        "    return sum(p.numel() for p in model.parameters() if p.requires_grad)\n",
        "\n",
        "# print(f'The model has {count_parameters(model):,} trainable parameters')"
      ]
    },
    {
      "cell_type": "markdown",
      "metadata": {
        "id": "wrkr-KlaH1tU"
      },
      "source": [
        "## Train the Model"
      ]
    },
    {
      "cell_type": "markdown",
      "metadata": {
        "id": "8ATDO1XbH1tU"
      },
      "source": [
        "Now we'll set up the training and then train the model.\n",
        "\n",
        "First, we'll create an optimizer. This is the algorithm we use to update the parameters of the module. Here, we'll use _stochastic gradient descent_ (SGD). The first argument is the parameters will be updated by the optimizer, the second is the learning rate, i.e. how much we'll change the parameters by when we do a parameter update."
      ]
    },
    {
      "cell_type": "code",
      "execution_count": 19,
      "metadata": {
        "id": "GvMIccglH1tU"
      },
      "outputs": [],
      "source": [
        "# import torch.optim as optim\n",
        "# optimizer = optim.Adam(model.parameters(), lr=1e-3)"
      ]
    },
    {
      "cell_type": "markdown",
      "metadata": {
        "id": "w2VjOUWDH1tU"
      },
      "source": [
        "Next, we'll define our loss function. In PyTorch this is commonly called a criterion.\n",
        "\n",
        "The loss function here is _binary cross entropy with logits_.\n",
        "\n",
        "Our model currently outputs an unbound real number. As our labels are either 0 or 1, we want to restrict the predictions to a number between 0 and 1. We do this using the _sigmoid_ or _logit_ functions.\n",
        "\n",
        "We then use this this bound scalar to calculate the loss using binary cross entropy.\n",
        "\n",
        "The `BCEWithLogitsLoss` criterion carries out both the sigmoid and the binary cross entropy steps."
      ]
    },
    {
      "cell_type": "code",
      "execution_count": 20,
      "metadata": {
        "id": "Y24HzSVUH1tU"
      },
      "outputs": [],
      "source": [
        "# criterion = nn.BCEWithLogitsLoss()"
      ]
    },
    {
      "cell_type": "markdown",
      "metadata": {
        "id": "QLggV-msH1tU"
      },
      "source": [
        "Using `.to`, we can place the model and the criterion on the GPU (if we have one)."
      ]
    },
    {
      "cell_type": "code",
      "execution_count": 21,
      "metadata": {
        "id": "Oxpv2NL9H1tU"
      },
      "outputs": [],
      "source": [
        "# model = model.to(device)\n",
        "# criterion = criterion.to(device)"
      ]
    },
    {
      "cell_type": "markdown",
      "metadata": {
        "id": "yGaPkSU2H1tU"
      },
      "source": [
        "Our criterion function calculates the loss, however we have to write our function to calculate the accuracy.\n",
        "\n",
        "This function first feeds the predictions through a sigmoid layer, squashing the values between 0 and 1, we then round them to the nearest integer. This rounds any value greater than 0.5 to 1 (a positive sentiment) and the rest to 0 (a negative sentiment).\n",
        "\n",
        "We then calculate how many rounded predictions equal the actual labels and average it across the batch."
      ]
    },
    {
      "cell_type": "code",
      "execution_count": 22,
      "metadata": {
        "id": "wp5qxRMeH1tU"
      },
      "outputs": [],
      "source": [
        "def binary_accuracy(preds, y):\n",
        "    \"\"\"\n",
        "    Returns accuracy per batch, i.e. if you get 8/10 right, this returns 0.8, NOT 8\n",
        "    \"\"\"\n",
        "\n",
        "    #round predictions to the closest integer\n",
        "    rounded_preds = torch.round(torch.sigmoid(preds))\n",
        "    correct = (rounded_preds == y).float() #convert into float for division\n",
        "    acc = correct.sum() / len(correct)\n",
        "    return acc"
      ]
    },
    {
      "cell_type": "markdown",
      "metadata": {
        "id": "DLgOX9sVH1tU"
      },
      "source": [
        "The `train` function iterates over all examples, one batch at a time.\n",
        "\n",
        "`model.train()` is used to put the model in \"training mode\", which turns on _dropout_ and _batch normalization_. Although we aren't using them in this model, it's good practice to include it.\n",
        "\n",
        "For each batch, we first zero the gradients. Each parameter in a model has a `grad` attribute which stores the gradient calculated by the `criterion`. PyTorch does not automatically remove (or \"zero\") the gradients calculated from the last gradient calculation, so they must be manually zeroed.\n",
        "\n",
        "We then feed the batch of sentences, `batch.text`, into the model. Note, you do not need to do `model.forward(batch.text)`, simply calling the model works. The `squeeze` is needed as the predictions are initially size _**[batch size, 1]**_, and we need to remove the dimension of size 1 as PyTorch expects the predictions input to our criterion function to be of size _**[batch size]**_.\n",
        "\n",
        "The loss and accuracy are then calculated using our predictions and the labels, `batch.label`, with the loss being averaged over all examples in the batch.\n",
        "\n",
        "We calculate the gradient of each parameter with `loss.backward()`, and then update the parameters using the gradients and optimizer algorithm with `optimizer.step()`.\n",
        "\n",
        "The loss and accuracy is accumulated across the epoch, the `.item()` method is used to extract a scalar from a tensor which only contains a single value.\n",
        "\n",
        "Finally, we return the loss and accuracy, averaged across the epoch. The `len` of an iterator is the number of batches in the iterator.\n",
        "\n",
        "You may recall when initializing the `LABEL` field, we set `dtype=torch.float`. This is because TorchText sets tensors to be `LongTensor`s by default, however our criterion expects both inputs to be `FloatTensor`s. Setting the `dtype` to be `torch.float`, did this for us. The alternative method of doing this would be to do the conversion inside the `train` function by passing `batch.label.float()` instad of `batch.label` to the criterion."
      ]
    },
    {
      "cell_type": "code",
      "execution_count": 23,
      "metadata": {
        "id": "nqCbCqPuH1tU"
      },
      "outputs": [],
      "source": [
        "def train(model, iterator, optimizer, criterion):\n",
        "\n",
        "    epoch_loss = 0\n",
        "    epoch_acc = 0\n",
        "\n",
        "    model.train()\n",
        "\n",
        "    for batch in iterator:\n",
        "\n",
        "        optimizer.zero_grad()\n",
        "\n",
        "        text, text_lengths = batch.text\n",
        "\n",
        "        predictions = model(text, text_lengths).squeeze(1)\n",
        "\n",
        "        loss = criterion(predictions, batch.label)\n",
        "\n",
        "        acc = binary_accuracy(predictions, batch.label)\n",
        "\n",
        "        loss.backward()\n",
        "\n",
        "        optimizer.step()\n",
        "\n",
        "        epoch_loss += loss.item()\n",
        "        epoch_acc += acc.item()\n",
        "\n",
        "    return epoch_loss / len(iterator), epoch_acc / len(iterator)"
      ]
    },
    {
      "cell_type": "markdown",
      "metadata": {
        "id": "mjgL4FpwH1tU"
      },
      "source": [
        "`evaluate` is similar to `train`, with a few modifications as you don't want to update the parameters when evaluating.\n",
        "\n",
        "`model.eval()` puts the model in \"evaluation mode\", this turns off _dropout_ and _batch normalization_. Again, we are not using them in this model, but it is good practice to include them.\n",
        "\n",
        "No gradients are calculated on PyTorch operations inside the `with no_grad()` block. This causes less memory to be used and speeds up computation.\n",
        "\n",
        "The rest of the function is the same as `train`, with the removal of `optimizer.zero_grad()`, `loss.backward()` and `optimizer.step()`, as we do not update the model's parameters when evaluating."
      ]
    },
    {
      "cell_type": "code",
      "execution_count": 24,
      "metadata": {
        "id": "eS3rZWzhH1tU"
      },
      "outputs": [],
      "source": [
        "def evaluate(model, iterator, criterion):\n",
        "\n",
        "    epoch_loss = 0\n",
        "    epoch_acc = 0\n",
        "\n",
        "    model.eval()\n",
        "\n",
        "    with torch.no_grad():\n",
        "\n",
        "        for batch in iterator:\n",
        "            text, text_lengths = batch.text\n",
        "\n",
        "            predictions = model(text, text_lengths).squeeze(1)\n",
        "\n",
        "            loss = criterion(predictions, batch.label)\n",
        "\n",
        "            acc = binary_accuracy(predictions, batch.label)\n",
        "\n",
        "            epoch_loss += loss.item()\n",
        "            epoch_acc += acc.item()\n",
        "\n",
        "    return epoch_loss / len(iterator), epoch_acc / len(iterator)"
      ]
    },
    {
      "cell_type": "markdown",
      "metadata": {
        "id": "ihiNgpLMH1tU"
      },
      "source": [
        "We'll also create a function to tell us how long an epoch takes to compare training times between models."
      ]
    },
    {
      "cell_type": "code",
      "execution_count": 25,
      "metadata": {
        "id": "EzkEdOh_H1tU"
      },
      "outputs": [],
      "source": [
        "import time\n",
        "\n",
        "def epoch_time(start_time, end_time):\n",
        "    elapsed_time = end_time - start_time\n",
        "    elapsed_mins = int(elapsed_time / 60)\n",
        "    elapsed_secs = int(elapsed_time - (elapsed_mins * 60))\n",
        "    return elapsed_mins, elapsed_secs"
      ]
    },
    {
      "cell_type": "code",
      "source": [
        "\n",
        "def trainer(name, model, lr, N_EPOCHS):\n",
        "  losses = []\n",
        "  best_valid_loss = float('inf')\n",
        "  for epoch in range(N_EPOCHS):\n",
        "\n",
        "      start_time = time.time()\n",
        "\n",
        "      train_loss, train_acc = train(model, train_iterator, optimizer, criterion)\n",
        "      losses.append(train_loss)\n",
        "      valid_loss, valid_acc = evaluate(model, valid_iterator, criterion)\n",
        "\n",
        "      end_time = time.time()\n",
        "\n",
        "      epoch_mins, epoch_secs = epoch_time(start_time, end_time)\n",
        "\n",
        "      if valid_loss < best_valid_loss:\n",
        "        best_valid_loss = valid_loss\n",
        "        model_file_name = f\"model_{name}_best_valid_loss.pt\"\n",
        "\n",
        "        torch.save(model.state_dict(), model_file_name)\n",
        "\n",
        "\n",
        "      print(f'Epoch: {epoch+1:02} | Epoch Time: {epoch_mins}m {epoch_secs}s')\n",
        "      print(f'\\tTrain Loss: {train_loss:.3f} | Train Acc: {train_acc*100:.2f}%')\n",
        "      print(f'\\t Val. Loss: {valid_loss:.3f} |  Val. Acc: {valid_acc*100:.2f}%')\n",
        "\n",
        "  print(\"done\", name)\n",
        "  tot_save_name = f\"total_model_{name}.pt\"\n",
        "  torch.save(model, tot_save_name)\n",
        "  print(\"saved\", tot_save_name)\n",
        "\n",
        "  lossesDict[name] = losses"
      ],
      "metadata": {
        "id": "qu0K-HiCwbwp"
      },
      "execution_count": 26,
      "outputs": []
    },
    {
      "cell_type": "markdown",
      "metadata": {
        "id": "M5qBxiXfH1tU"
      },
      "source": [
        "We then train the model through multiple epochs, an epoch being a complete pass through all examples in the training and validation sets.\n",
        "\n",
        "At each epoch, if the validation loss is the best we have seen so far, we'll save the parameters of the model and then after training has finished we'll use that model on the test set."
      ]
    },
    {
      "cell_type": "code",
      "source": [
        "\n",
        "!pip install --upgrade gensim\n",
        "\n",
        "from gensim.test.utils import common_texts\n",
        "from gensim.models import Word2Vec\n",
        "# word2vec\n",
        "model = Word2Vec(sentences=common_texts, vector_size=100, window=5, min_count=1, workers=4)\n",
        "model.save(\"word2vec.model\")\n"
      ],
      "metadata": {
        "colab": {
          "base_uri": "https://localhost:8080/"
        },
        "id": "iYsUvmrbuApd",
        "outputId": "3091330a-8280-40b8-93c8-ac605de45259"
      },
      "execution_count": 27,
      "outputs": [
        {
          "output_type": "stream",
          "name": "stdout",
          "text": [
            "Requirement already satisfied: gensim in /usr/local/lib/python3.10/dist-packages (4.3.2)\n",
            "Requirement already satisfied: numpy>=1.18.5 in /usr/local/lib/python3.10/dist-packages (from gensim) (1.25.2)\n",
            "Requirement already satisfied: scipy>=1.7.0 in /usr/local/lib/python3.10/dist-packages (from gensim) (1.11.4)\n",
            "Requirement already satisfied: smart-open>=1.8.1 in /usr/local/lib/python3.10/dist-packages (from gensim) (6.4.0)\n"
          ]
        }
      ]
    },
    {
      "cell_type": "code",
      "source": [
        "# Create the model\n",
        "\n",
        "# CNN\n",
        "INPUT_DIM = len(TEXT.vocab)\n",
        "EMBEDDING_DIM = 100\n",
        "HIDDEN_DIM_1 = 500\n",
        "OUTPUT_DIM = 1\n",
        "model = CNN(INPUT_DIM, EMBEDDING_DIM, HIDDEN_DIM_1, OUTPUT_DIM)\n"
      ],
      "metadata": {
        "id": "Ghc-qeyqX8h3"
      },
      "execution_count": 28,
      "outputs": []
    },
    {
      "cell_type": "code",
      "execution_count": 29,
      "metadata": {
        "id": "eAjehc9qH1tV",
        "outputId": "58d21cb8-b922-413b-f02b-f417bd89e6ba",
        "colab": {
          "base_uri": "https://localhost:8080/"
        }
      },
      "outputs": [
        {
          "output_type": "stream",
          "name": "stdout",
          "text": [
            "0\n"
          ]
        },
        {
          "output_type": "stream",
          "name": "stderr",
          "text": [
            "<ipython-input-29-f483297673d2>:26: UserWarning: Creating a tensor from a list of numpy.ndarrays is extremely slow. Please consider converting the list to a single numpy.ndarray with numpy.array() before converting to a tensor. (Triggered internally at ../torch/csrc/utils/tensor_new.cpp:261.)\n",
            "  embedding_matrix = torch.tensor(embedding_matrix, dtype=torch.float)\n"
          ]
        },
        {
          "output_type": "stream",
          "name": "stdout",
          "text": [
            "CNN(\n",
            "  (embedding): Embedding(25002, 100)\n",
            "  (cnn1): Conv1d(100, 256, kernel_size=(1,), stride=(1,))\n",
            "  (cnn2): Conv1d(100, 256, kernel_size=(2,), stride=(1,))\n",
            "  (cnn3): Conv1d(100, 256, kernel_size=(3,), stride=(1,))\n",
            "  (fc): Linear(in_features=768, out_features=1, bias=True)\n",
            "  (embedding_layer): Embedding(12, 100)\n",
            ")\n",
            "The model has 2,655,337 trainable parameters\n",
            "Epoch: 01 | Epoch Time: 0m 9s\n",
            "\tTrain Loss: 0.473 | Train Acc: 76.95%\n",
            "\t Val. Loss: 0.361 |  Val. Acc: 84.04%\n",
            "Epoch: 02 | Epoch Time: 0m 4s\n",
            "\tTrain Loss: 0.272 | Train Acc: 89.14%\n",
            "\t Val. Loss: 0.311 |  Val. Acc: 86.61%\n",
            "Epoch: 03 | Epoch Time: 0m 5s\n",
            "\tTrain Loss: 0.173 | Train Acc: 94.09%\n",
            "\t Val. Loss: 0.277 |  Val. Acc: 88.09%\n",
            "Epoch: 04 | Epoch Time: 0m 4s\n",
            "\tTrain Loss: 0.103 | Train Acc: 97.48%\n",
            "\t Val. Loss: 0.271 |  Val. Acc: 88.55%\n",
            "Epoch: 05 | Epoch Time: 0m 4s\n",
            "\tTrain Loss: 0.051 | Train Acc: 99.44%\n",
            "\t Val. Loss: 0.296 |  Val. Acc: 87.92%\n",
            "Epoch: 06 | Epoch Time: 0m 4s\n",
            "\tTrain Loss: 0.023 | Train Acc: 99.96%\n",
            "\t Val. Loss: 0.289 |  Val. Acc: 89.06%\n",
            "Epoch: 07 | Epoch Time: 0m 4s\n",
            "\tTrain Loss: 0.012 | Train Acc: 99.99%\n",
            "\t Val. Loss: 0.296 |  Val. Acc: 89.06%\n",
            "Epoch: 08 | Epoch Time: 0m 4s\n",
            "\tTrain Loss: 0.007 | Train Acc: 100.00%\n",
            "\t Val. Loss: 0.306 |  Val. Acc: 89.02%\n",
            "Epoch: 09 | Epoch Time: 0m 4s\n",
            "\tTrain Loss: 0.005 | Train Acc: 100.00%\n",
            "\t Val. Loss: 0.317 |  Val. Acc: 89.06%\n",
            "Epoch: 10 | Epoch Time: 0m 4s\n",
            "\tTrain Loss: 0.003 | Train Acc: 100.00%\n",
            "\t Val. Loss: 0.325 |  Val. Acc: 89.10%\n",
            "Epoch: 11 | Epoch Time: 0m 4s\n",
            "\tTrain Loss: 0.002 | Train Acc: 100.00%\n",
            "\t Val. Loss: 0.333 |  Val. Acc: 89.12%\n",
            "Epoch: 12 | Epoch Time: 0m 4s\n",
            "\tTrain Loss: 0.002 | Train Acc: 100.00%\n",
            "\t Val. Loss: 0.340 |  Val. Acc: 89.18%\n",
            "Epoch: 13 | Epoch Time: 0m 4s\n",
            "\tTrain Loss: 0.001 | Train Acc: 100.00%\n",
            "\t Val. Loss: 0.348 |  Val. Acc: 89.12%\n",
            "Epoch: 14 | Epoch Time: 0m 4s\n",
            "\tTrain Loss: 0.001 | Train Acc: 100.00%\n",
            "\t Val. Loss: 0.354 |  Val. Acc: 89.32%\n",
            "Epoch: 15 | Epoch Time: 0m 4s\n",
            "\tTrain Loss: 0.001 | Train Acc: 100.00%\n",
            "\t Val. Loss: 0.361 |  Val. Acc: 89.16%\n",
            "Epoch: 16 | Epoch Time: 0m 4s\n",
            "\tTrain Loss: 0.001 | Train Acc: 100.00%\n",
            "\t Val. Loss: 0.367 |  Val. Acc: 89.18%\n",
            "Epoch: 17 | Epoch Time: 0m 4s\n",
            "\tTrain Loss: 0.001 | Train Acc: 100.00%\n",
            "\t Val. Loss: 0.374 |  Val. Acc: 89.20%\n",
            "Epoch: 18 | Epoch Time: 0m 4s\n",
            "\tTrain Loss: 0.000 | Train Acc: 100.00%\n",
            "\t Val. Loss: 0.380 |  Val. Acc: 89.36%\n",
            "Epoch: 19 | Epoch Time: 0m 4s\n",
            "\tTrain Loss: 0.000 | Train Acc: 100.00%\n",
            "\t Val. Loss: 0.387 |  Val. Acc: 89.32%\n",
            "Epoch: 20 | Epoch Time: 0m 4s\n",
            "\tTrain Loss: 0.000 | Train Acc: 100.00%\n",
            "\t Val. Loss: 0.392 |  Val. Acc: 89.30%\n",
            "Epoch: 21 | Epoch Time: 0m 4s\n",
            "\tTrain Loss: 0.000 | Train Acc: 100.00%\n",
            "\t Val. Loss: 0.399 |  Val. Acc: 89.36%\n",
            "Epoch: 22 | Epoch Time: 0m 4s\n",
            "\tTrain Loss: 0.000 | Train Acc: 100.00%\n",
            "\t Val. Loss: 0.405 |  Val. Acc: 89.36%\n",
            "Epoch: 23 | Epoch Time: 0m 4s\n",
            "\tTrain Loss: 0.000 | Train Acc: 100.00%\n",
            "\t Val. Loss: 0.411 |  Val. Acc: 89.38%\n",
            "Epoch: 24 | Epoch Time: 0m 4s\n",
            "\tTrain Loss: 0.000 | Train Acc: 100.00%\n",
            "\t Val. Loss: 0.416 |  Val. Acc: 89.40%\n",
            "Epoch: 25 | Epoch Time: 0m 4s\n",
            "\tTrain Loss: 0.000 | Train Acc: 100.00%\n",
            "\t Val. Loss: 0.422 |  Val. Acc: 89.48%\n",
            "Epoch: 26 | Epoch Time: 0m 4s\n",
            "\tTrain Loss: 0.000 | Train Acc: 100.00%\n",
            "\t Val. Loss: 0.427 |  Val. Acc: 89.40%\n",
            "Epoch: 27 | Epoch Time: 0m 4s\n",
            "\tTrain Loss: 0.000 | Train Acc: 100.00%\n",
            "\t Val. Loss: 0.434 |  Val. Acc: 89.46%\n",
            "Epoch: 28 | Epoch Time: 0m 4s\n",
            "\tTrain Loss: 0.000 | Train Acc: 100.00%\n",
            "\t Val. Loss: 0.439 |  Val. Acc: 89.42%\n",
            "Epoch: 29 | Epoch Time: 0m 4s\n",
            "\tTrain Loss: 0.000 | Train Acc: 100.00%\n",
            "\t Val. Loss: 0.446 |  Val. Acc: 89.40%\n",
            "Epoch: 30 | Epoch Time: 0m 4s\n",
            "\tTrain Loss: 0.000 | Train Acc: 100.00%\n",
            "\t Val. Loss: 0.451 |  Val. Acc: 89.42%\n",
            "Epoch: 31 | Epoch Time: 0m 4s\n",
            "\tTrain Loss: 0.000 | Train Acc: 100.00%\n",
            "\t Val. Loss: 0.457 |  Val. Acc: 89.46%\n",
            "Epoch: 32 | Epoch Time: 0m 4s\n",
            "\tTrain Loss: 0.000 | Train Acc: 100.00%\n",
            "\t Val. Loss: 0.462 |  Val. Acc: 89.46%\n",
            "Epoch: 33 | Epoch Time: 0m 4s\n",
            "\tTrain Loss: 0.000 | Train Acc: 100.00%\n",
            "\t Val. Loss: 0.468 |  Val. Acc: 89.42%\n",
            "Epoch: 34 | Epoch Time: 0m 4s\n",
            "\tTrain Loss: 0.000 | Train Acc: 100.00%\n",
            "\t Val. Loss: 0.475 |  Val. Acc: 89.44%\n",
            "Epoch: 35 | Epoch Time: 0m 4s\n",
            "\tTrain Loss: 0.000 | Train Acc: 100.00%\n",
            "\t Val. Loss: 0.480 |  Val. Acc: 89.50%\n",
            "Epoch: 36 | Epoch Time: 0m 4s\n",
            "\tTrain Loss: 0.000 | Train Acc: 100.00%\n",
            "\t Val. Loss: 0.485 |  Val. Acc: 89.44%\n",
            "Epoch: 37 | Epoch Time: 0m 4s\n",
            "\tTrain Loss: 0.000 | Train Acc: 100.00%\n",
            "\t Val. Loss: 0.491 |  Val. Acc: 89.42%\n",
            "Epoch: 38 | Epoch Time: 0m 4s\n",
            "\tTrain Loss: 0.000 | Train Acc: 100.00%\n",
            "\t Val. Loss: 0.497 |  Val. Acc: 89.48%\n",
            "Epoch: 39 | Epoch Time: 0m 4s\n",
            "\tTrain Loss: 0.000 | Train Acc: 100.00%\n",
            "\t Val. Loss: 0.503 |  Val. Acc: 89.50%\n",
            "Epoch: 40 | Epoch Time: 0m 4s\n",
            "\tTrain Loss: 0.000 | Train Acc: 100.00%\n",
            "\t Val. Loss: 0.509 |  Val. Acc: 89.50%\n",
            "Epoch: 41 | Epoch Time: 0m 4s\n",
            "\tTrain Loss: 0.000 | Train Acc: 100.00%\n",
            "\t Val. Loss: 0.513 |  Val. Acc: 89.46%\n",
            "Epoch: 42 | Epoch Time: 0m 4s\n",
            "\tTrain Loss: 0.000 | Train Acc: 100.00%\n",
            "\t Val. Loss: 0.519 |  Val. Acc: 89.54%\n",
            "Epoch: 43 | Epoch Time: 0m 4s\n",
            "\tTrain Loss: 0.000 | Train Acc: 100.00%\n",
            "\t Val. Loss: 0.525 |  Val. Acc: 89.46%\n",
            "Epoch: 44 | Epoch Time: 0m 4s\n",
            "\tTrain Loss: 0.000 | Train Acc: 100.00%\n",
            "\t Val. Loss: 0.530 |  Val. Acc: 89.56%\n",
            "Epoch: 45 | Epoch Time: 0m 4s\n",
            "\tTrain Loss: 0.000 | Train Acc: 100.00%\n",
            "\t Val. Loss: 0.537 |  Val. Acc: 89.50%\n",
            "Epoch: 46 | Epoch Time: 0m 4s\n",
            "\tTrain Loss: 0.000 | Train Acc: 100.00%\n",
            "\t Val. Loss: 0.542 |  Val. Acc: 89.50%\n",
            "Epoch: 47 | Epoch Time: 0m 4s\n",
            "\tTrain Loss: 0.000 | Train Acc: 100.00%\n",
            "\t Val. Loss: 0.548 |  Val. Acc: 89.46%\n",
            "Epoch: 48 | Epoch Time: 0m 4s\n",
            "\tTrain Loss: 0.000 | Train Acc: 100.00%\n",
            "\t Val. Loss: 0.554 |  Val. Acc: 89.48%\n",
            "Epoch: 49 | Epoch Time: 0m 4s\n",
            "\tTrain Loss: 0.000 | Train Acc: 100.00%\n",
            "\t Val. Loss: 0.560 |  Val. Acc: 89.46%\n",
            "Epoch: 50 | Epoch Time: 0m 4s\n",
            "\tTrain Loss: 0.000 | Train Acc: 100.00%\n",
            "\t Val. Loss: 0.565 |  Val. Acc: 89.48%\n",
            "done CNN\n",
            "saved total_model_CNN.pt\n"
          ]
        }
      ],
      "source": [
        "N_EPOCHS = 50\n",
        "lr = 1e-3\n",
        "device = torch.device('cuda' if torch.cuda.is_available() else 'cpu')\n",
        "\n",
        "# a Word2Vec model operate differently from pytorch.\n",
        "Word2VecModel = Word2Vec.load(\"word2vec.model\")\n",
        "\n",
        "word_vectors = Word2VecModel.wv\n",
        "\n",
        "# To get a list of all words in the vocabulary\n",
        "vocab = list(word_vectors.key_to_index.keys())\n",
        "randomVecs = 0\n",
        "\n",
        "embedding_matrix = []\n",
        "for word in vocab:\n",
        "    if word in word_vectors.key_to_index:  # Use .key_to_index for checking\n",
        "        embedding_matrix.append(word_vectors[word])\n",
        "    else:\n",
        "        # If the word is not found, append a random vector\n",
        "        embedding_matrix.append(torch.randn(EMBEDDING_DIM))\n",
        "        randomVecs += 1\n",
        "\n",
        "print(randomVecs)\n",
        "\n",
        "# Convert the list of vectors to a PyTorch tensor\n",
        "embedding_matrix = torch.tensor(embedding_matrix, dtype=torch.float)\n",
        "\n",
        "# Create the embedding layer\n",
        "embedding_layer = torch.nn.Embedding.from_pretrained(embedding_matrix)\n",
        "\n",
        "# Create the model\n",
        "model = CNN(INPUT_DIM, EMBEDDING_DIM, HIDDEN_DIM, OUTPUT_DIM)\n",
        "model.embedding_layer = embedding_layer\n",
        "\n",
        "lossesDict = {}\n",
        "\n",
        "name = \"CNN\"\n",
        "\n",
        "import torch.optim as optim\n",
        "optimizer = optim.Adam(model.parameters(), lr=lr)\n",
        "print(model)\n",
        "print(f'The model has {count_parameters(model):,} trainable parameters')\n",
        "model.to(device)\n",
        "\n",
        "criterion = nn.BCEWithLogitsLoss()\n",
        "criterion = criterion.to(device)\n",
        "\n",
        "trainer(name,model, lr, N_EPOCHS)"
      ]
    },
    {
      "cell_type": "markdown",
      "metadata": {
        "id": "4zxuQwH0H1tV"
      },
      "source": [
        "You may have noticed the loss is not really decreasing and the accuracy is poor. This is due to several issues with the model which we'll improve in the next notebook.\n",
        "\n",
        "Finally, the metric we actually care about, the test loss and accuracy, which we get from our parameters that gave us the best validation loss."
      ]
    },
    {
      "cell_type": "code",
      "execution_count": 30,
      "metadata": {
        "id": "49vGHz2WH1tV",
        "colab": {
          "base_uri": "https://localhost:8080/"
        },
        "outputId": "fe873390-7491-4243-94f5-eedb6a811ffb"
      },
      "outputs": [
        {
          "output_type": "stream",
          "name": "stdout",
          "text": [
            "CNN\n",
            "Test Loss: 0.264 | Test Acc: 89.09%\n"
          ]
        }
      ],
      "source": [
        "# for name in models.keys():\n",
        "print(name)\n",
        "model = torch.load(f\"total_model_{name}.pt\")\n",
        "model.load_state_dict(torch.load(f\"model_{name}_best_valid_loss.pt\"))\n",
        "\n",
        "test_loss, test_acc = evaluate(model, test_iterator, criterion)\n",
        "\n",
        "print(f'Test Loss: {test_loss:.3f} | Test Acc: {test_acc*100:.2f}%')"
      ]
    },
    {
      "cell_type": "code",
      "source": [
        "# for all models in the lossesDict, make one plot\n",
        "import matplotlib.pyplot as plt\n",
        "\n",
        "# Plotting\n",
        "plt.figure(figsize=(10, 6))\n",
        "for model_name, losses in lossesDict.items():\n",
        "    plt.plot(losses, label=model_name)\n",
        "\n",
        "plt.title('Model Losses Comparison')\n",
        "plt.xlabel('Epoch')\n",
        "plt.ylabel('Loss')\n",
        "plt.legend()\n",
        "plt.grid(True)\n",
        "plt.show()"
      ],
      "metadata": {
        "colab": {
          "base_uri": "https://localhost:8080/",
          "height": 564
        },
        "id": "nD9oBlh62BHC",
        "outputId": "3349af01-a0c4-4607-a565-ca2ebe64d5a1"
      },
      "execution_count": 31,
      "outputs": [
        {
          "output_type": "display_data",
          "data": {
            "text/plain": [
              "<Figure size 1000x600 with 1 Axes>"
            ],
            "image/png": "[encoded data removed]"
          },
          "metadata": {}
        }
      ]
    },
    {
      "cell_type": "markdown",
      "metadata": {
        "id": "fIO3ZeBgH1tV"
      },
      "source": [
        "## Next Steps\n",
        "\n",
        "In the next notebook, the improvements we will make are:\n",
        "- packed padded sequences\n",
        "- pre-trained word embeddings\n",
        "- different RNN architecture\n",
        "- bidirectional RNN\n",
        "- multi-layer RNN\n",
        "- regularization\n",
        "- a different optimizer\n",
        "\n",
        "This will allow us to achieve ~84% accuracy."
      ]
    }
  ],
  "metadata": {
    "kernelspec": {
      "display_name": "Python 3",
      "name": "python3"
    },
    "language_info": {
      "codemirror_mode": {
        "name": "ipython",
        "version": 3
      },
      "file_extension": ".py",
      "mimetype": "text/x-python",
      "name": "python",
      "nbconvert_exporter": "python",
      "pygments_lexer": "ipython3",
      "version": "3.8.5"
    },
    "colab": {
      "provenance": [],
      "machine_shape": "hm",
      "gpuType": "V100"
    },
    "accelerator": "GPU"
  },
  "nbformat": 4,
  "nbformat_minor": 0
}